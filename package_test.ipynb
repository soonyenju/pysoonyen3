{
 "cells": [
  {
   "cell_type": "code",
   "execution_count": 1,
   "metadata": {},
   "outputs": [
    {
     "name": "stdout",
     "output_type": "stream",
     "text": [
      "['Canvas', 'EEarth', 'Ecolbox', 'Emagebox', 'Geometry', 'In', 'Out', 'Utils', '_', '__', '___', '__builtin__', '__builtins__', '__doc__', '__loader__', '__name__', '__package__', '__spec__', '_dh', '_i', '_i1', '_ih', '_ii', '_iii', '_oh', 'exit', 'fluxlib', 'get_ipython', 'quit', 'scigee', 'scigeo', 'utils', 'viz_params']\n"
     ]
    }
   ],
   "source": [
    "from pysy import *\n",
    "\n",
    "print(dir())"
   ]
  },
  {
   "cell_type": "code",
   "execution_count": 17,
   "metadata": {},
   "outputs": [
    {
     "name": "stdout",
     "output_type": "stream",
     "text": [
      "0.3394360088198136\n",
      "0.327104198108853\n"
     ]
    },
    {
     "data": {
      "text/html": [
       "<div style=\"width:100%;\"><div style=\"position:relative;width:100%;height:0;padding-bottom:60%;\"><iframe src=\"data:text/html;charset=utf-8;base64,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\" style=\"position:absolute;width:100%;height:100%;left:0;top:0;border:none !important;\" allowfullscreen webkitallowfullscreen mozallowfullscreen></iframe></div></div>"
      ],
      "text/plain": [
       "<folium.folium.Map at 0x15e451e4f48>"
      ]
     },
     "metadata": {},
     "output_type": "display_data"
    },
    {
     "name": "stdout",
     "output_type": "stream",
     "text": [
      "ok\n"
     ]
    }
   ],
   "source": [
    "landsat_7_evi = \"LANDSAT/LE07/C01/T1_8DAY_EVI\"\n",
    "landsat_8_evi = \"LANDSAT/LC08/C01/T1_8DAY_EVI\"\n",
    "sentinel_2_TOA = \"COPERNICUS/S2\"\n",
    "\n",
    "date_range = [\"2018-6-1\", \"2018-6-11\"]\n",
    "# Ameriflux: US-ARM\n",
    "lat = 36.6058\n",
    "lon = -97.4888\n",
    "\n",
    "geometry = Geometry(lon = lon, lat = lat)\n",
    "point = geometry(0)\n",
    "roi = Geometry.get_rect_buffer(point, buffer_size = 0.0007)\n",
    "\n",
    "\n",
    "# s2toa = Ecolbox(sentinel_2_TOA, date_range = date_range, roi = roi)\n",
    "\n",
    "# # cloud mask\n",
    "# s2toa_imgs = s2toa.collection.map(\n",
    "#     lambda image: Utils.sentinel_2_cloud_mask(image)\n",
    "# )\n",
    "\n",
    "# # calculate CIRE\n",
    "# s2toa_imgs = s2toa_imgs.map(\n",
    "#     lambda image: Utils.calc_vi(\"cire\", image, re2 = \"B6\", re3 = \"B7\")\n",
    "# )\n",
    "\n",
    "# print(f\"sentinel2 {'-'*20}\")\n",
    "# # update s2toa's attr collection\n",
    "# s2toa(s2toa_imgs)\n",
    "# for i in range(s2toa.__length__):\n",
    "#     image = s2toa.get_image_by_index(idx = i)\n",
    "#     imgbox = Emagebox(image)\n",
    "#     val = imgbox.get_value(\"CIRE\", point)\n",
    "#     print(val, imgbox.get_date())\n",
    "    \n",
    "# print(f\"landsat7 {'-'*20}\")   \n",
    "# ls7evis = Ecolbox(landsat_7_evi, date_range = date_range, roi = roi)\n",
    "# for i in range(ls7evis.__length__):\n",
    "#     image = ls7evis.get_image_by_index(idx = i)\n",
    "#     imgbox = Emagebox(image)\n",
    "#     val = imgbox.get_value(\"EVI\", point)\n",
    "#     print(val, imgbox.get_date())\n",
    "    \n",
    "# print(f\"landsat8 {'-'*20}\")\n",
    "# ls8evis = Ecolbox(landsat_8_evi, date_range = date_range, roi = roi)\n",
    "# for i in range(ls8evis.__length__):\n",
    "#     image = ls8evis.get_image_by_index(idx = i)\n",
    "#     imgbox = Emagebox(image)\n",
    "#     val = imgbox.get_value(\"EVI\", point)\n",
    "#     print(val, imgbox.get_date())\n",
    "    \n",
    "    \n",
    "ls7evis = Ecolbox(landsat_7_evi, date_range = date_range, roi = roi)\n",
    "image = ls7evis.get_image_by_index(idx = 0)\n",
    "imgbox = Emagebox(image, scale = 10)\n",
    "print(imgbox.get_value(\"EVI\", point))\n",
    "vals = imgbox.get_values(\"EVI\", roi)[\"values\"]\n",
    "print(np.nanmean(np.where(vals==-9999., np.nan, vals))) \n",
    "canvas = Canvas()\n",
    "canvas.draw([image, roi, point], [canvas.viz(0, 1, canvas.cmap[\"veg\"]), {}, {}], layer_names = [\"evi\", \"poly\", \"site\"], location = [lat, lon], zoom_start = 7)\n",
    "display(canvas.m)\n",
    "\n",
    "print(\"ok\")"
   ]
  },
  {
   "cell_type": "code",
   "execution_count": 35,
   "metadata": {},
   "outputs": [
    {
     "name": "stdout",
     "output_type": "stream",
     "text": [
      "__new__ is called\n",
      "__init__ is called\n",
      "A.__getattribute__ called\n",
      "A.__getattr__ called\n",
      "cat\n",
      "A.__getattribute__ called\n",
      "A.__getattribute__ called\n",
      "['__class__', '__delattr__', '__dict__', '__dir__', '__doc__', '__eq__', '__format__', '__ge__', '__getattr__', '__getattribute__', '__gt__', '__hash__', '__init__', '__init_subclass__', '__le__', '__lt__', '__module__', '__ne__', '__new__', '__reduce__', '__reduce_ex__', '__repr__', '__setattr__', '__sizeof__', '__str__', '__subclasshook__', '__weakref__', 'attr1']\n"
     ]
    }
   ],
   "source": [
    "class A(object):\n",
    "    def __new__(cls):\n",
    "        print(\"__new__ is called\")\n",
    "        return super(A, cls).__new__(cls)\n",
    "\n",
    "    def __init__(self):\n",
    "        super(object, self).__init__()\n",
    "        self.attr1 = \"dog\"\n",
    "        print(\"__init__ is called\")\n",
    "        \n",
    "    def __getattribute__(self, attr):\n",
    "        print (\"A.__getattribute__ called\")\n",
    "        return super(A, self).__getattribute__(attr)\n",
    "    \n",
    "    def __getattr__(self, attr):\n",
    "        attr = \"cat\"\n",
    "        print (\"A.__getattr__ called\")\n",
    "        return attr\n",
    "\n",
    "a = A()\n",
    "# print(a.attr1)\n",
    "# print(a.attr2)\n",
    "print(a.attr3)\n",
    "print(dir(a))"
   ]
  }
 ],
 "metadata": {
  "kernelspec": {
   "display_name": "Python 3",
   "language": "python",
   "name": "python3"
  },
  "language_info": {
   "codemirror_mode": {
    "name": "ipython",
    "version": 3
   },
   "file_extension": ".py",
   "mimetype": "text/x-python",
   "name": "python",
   "nbconvert_exporter": "python",
   "pygments_lexer": "ipython3",
   "version": "3.7.4"
  }
 },
 "nbformat": 4,
 "nbformat_minor": 4
}
